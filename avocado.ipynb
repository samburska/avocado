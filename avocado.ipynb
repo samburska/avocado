{
 "cells": [
  {
   "cell_type": "markdown",
   "metadata": {},
   "source": [
    "### Import libraries and load csv file\n"
   ]
  },
  {
   "cell_type": "code",
   "execution_count": 1065,
   "metadata": {},
   "outputs": [],
   "source": [
    "import pandas as pd\n",
    "import numpy as np \n",
    "\n",
    "import matplotlib.pyplot as plt\n",
    "import seaborn as sns\n",
    "\n",
    "from datetime import datetime, timedelta\n",
    "from datetime import date"
   ]
  },
  {
   "cell_type": "code",
   "execution_count": 1066,
   "metadata": {},
   "outputs": [
    {
     "output_type": "execute_result",
     "data": {
      "text/plain": "            date  avg_price  total_volume  small_av  large_av  xlarge_av  \\\n18244 2018-02-04       1.63      17074.83   2046.96   1529.20       0.00   \n18245 2018-01-28       1.71      13888.04   1191.70   3431.50       0.00   \n18246 2018-01-21       1.87      13766.76   1191.92   2452.79     727.94   \n18247 2018-01-14       1.93      16205.22   1527.63   2981.04     727.01   \n18248 2018-01-07       1.62      17489.58   2894.77   2356.13     224.53   \n\n       total_bags  small_bags  large_bags  xlarge_bags     type  year  \\\n18244    13498.67    13066.82      431.85          0.0  organic  2018   \n18245     9264.84     8940.04      324.80          0.0  organic  2018   \n18246     9394.11     9351.80       42.31          0.0  organic  2018   \n18247    10969.54    10919.54       50.00          0.0  organic  2018   \n18248    12014.15    11988.14       26.01          0.0  organic  2018   \n\n                 region  \n18244  WestTexNewMexico  \n18245  WestTexNewMexico  \n18246  WestTexNewMexico  \n18247  WestTexNewMexico  \n18248  WestTexNewMexico  ",
      "text/html": "<div>\n<style scoped>\n    .dataframe tbody tr th:only-of-type {\n        vertical-align: middle;\n    }\n\n    .dataframe tbody tr th {\n        vertical-align: top;\n    }\n\n    .dataframe thead th {\n        text-align: right;\n    }\n</style>\n<table border=\"1\" class=\"dataframe\">\n  <thead>\n    <tr style=\"text-align: right;\">\n      <th></th>\n      <th>date</th>\n      <th>avg_price</th>\n      <th>total_volume</th>\n      <th>small_av</th>\n      <th>large_av</th>\n      <th>xlarge_av</th>\n      <th>total_bags</th>\n      <th>small_bags</th>\n      <th>large_bags</th>\n      <th>xlarge_bags</th>\n      <th>type</th>\n      <th>year</th>\n      <th>region</th>\n    </tr>\n  </thead>\n  <tbody>\n    <tr>\n      <th>18244</th>\n      <td>2018-02-04</td>\n      <td>1.63</td>\n      <td>17074.83</td>\n      <td>2046.96</td>\n      <td>1529.20</td>\n      <td>0.00</td>\n      <td>13498.67</td>\n      <td>13066.82</td>\n      <td>431.85</td>\n      <td>0.0</td>\n      <td>organic</td>\n      <td>2018</td>\n      <td>WestTexNewMexico</td>\n    </tr>\n    <tr>\n      <th>18245</th>\n      <td>2018-01-28</td>\n      <td>1.71</td>\n      <td>13888.04</td>\n      <td>1191.70</td>\n      <td>3431.50</td>\n      <td>0.00</td>\n      <td>9264.84</td>\n      <td>8940.04</td>\n      <td>324.80</td>\n      <td>0.0</td>\n      <td>organic</td>\n      <td>2018</td>\n      <td>WestTexNewMexico</td>\n    </tr>\n    <tr>\n      <th>18246</th>\n      <td>2018-01-21</td>\n      <td>1.87</td>\n      <td>13766.76</td>\n      <td>1191.92</td>\n      <td>2452.79</td>\n      <td>727.94</td>\n      <td>9394.11</td>\n      <td>9351.80</td>\n      <td>42.31</td>\n      <td>0.0</td>\n      <td>organic</td>\n      <td>2018</td>\n      <td>WestTexNewMexico</td>\n    </tr>\n    <tr>\n      <th>18247</th>\n      <td>2018-01-14</td>\n      <td>1.93</td>\n      <td>16205.22</td>\n      <td>1527.63</td>\n      <td>2981.04</td>\n      <td>727.01</td>\n      <td>10969.54</td>\n      <td>10919.54</td>\n      <td>50.00</td>\n      <td>0.0</td>\n      <td>organic</td>\n      <td>2018</td>\n      <td>WestTexNewMexico</td>\n    </tr>\n    <tr>\n      <th>18248</th>\n      <td>2018-01-07</td>\n      <td>1.62</td>\n      <td>17489.58</td>\n      <td>2894.77</td>\n      <td>2356.13</td>\n      <td>224.53</td>\n      <td>12014.15</td>\n      <td>11988.14</td>\n      <td>26.01</td>\n      <td>0.0</td>\n      <td>organic</td>\n      <td>2018</td>\n      <td>WestTexNewMexico</td>\n    </tr>\n  </tbody>\n</table>\n</div>"
     },
     "metadata": {},
     "execution_count": 1066
    }
   ],
   "source": [
    "av_df = pd.read_csv('avocado.csv', parse_dates=['Date'])\n",
    "av_df = av_df.rename(columns = {'Date' : 'date', 'AveragePrice' : 'avg_price', 'Total Volume' : 'total_volume', '4046' : 'small_av', '4225' : 'large_av', '4770' : 'xlarge_av', 'Total Bags' : 'total_bags', 'Small Bags' : 'small_bags', 'Large Bags':'large_bags', 'XLarge Bags' : 'xlarge_bags'})\n",
    "av_df = av_df.drop(columns = ['Unnamed: 0'])\n",
    "av_df.tail()"
   ]
  },
  {
   "cell_type": "markdown",
   "metadata": {},
   "source": [
    "### Explore data section"
   ]
  },
  {
   "cell_type": "code",
   "execution_count": 1067,
   "metadata": {},
   "outputs": [
    {
     "output_type": "stream",
     "name": "stdout",
     "text": "<class 'pandas.core.frame.DataFrame'>\nRangeIndex: 18249 entries, 0 to 18248\nData columns (total 13 columns):\ndate            18249 non-null datetime64[ns]\navg_price       18249 non-null float64\ntotal_volume    18249 non-null float64\nsmall_av        18249 non-null float64\nlarge_av        18249 non-null float64\nxlarge_av       18249 non-null float64\ntotal_bags      18249 non-null float64\nsmall_bags      18249 non-null float64\nlarge_bags      18249 non-null float64\nxlarge_bags     18249 non-null float64\ntype            18249 non-null object\nyear            18249 non-null int64\nregion          18249 non-null object\ndtypes: datetime64[ns](1), float64(9), int64(1), object(2)\nmemory usage: 1.8+ MB\n"
    }
   ],
   "source": [
    "av_df.info()"
   ]
  },
  {
   "cell_type": "markdown",
   "metadata": {},
   "source": [
    "### Data cleaning"
   ]
  },
  {
   "cell_type": "markdown",
   "metadata": {},
   "source": [
    "#### Check and change data types"
   ]
  },
  {
   "cell_type": "code",
   "execution_count": 1083,
   "metadata": {},
   "outputs": [
    {
     "output_type": "execute_result",
     "data": {
      "text/plain": "Timestamp('2018-03-25 00:00:00')"
     },
     "metadata": {},
     "execution_count": 1083
    }
   ],
   "source": [
    "# If there is a date greater than today's date we will assign it to today's date\n",
    "av_df['date'].max()\n",
    "\n",
    "# today = date.today()\n",
    "# av_df.loc[av_df['date'] > today, 'date'] = today"
   ]
  },
  {
   "cell_type": "code",
   "execution_count": 1069,
   "metadata": {},
   "outputs": [
    {
     "output_type": "execute_result",
     "data": {
      "text/plain": "CategoricalDtype(categories=['conventional', 'organic'], ordered=False)"
     },
     "metadata": {},
     "execution_count": 1069
    }
   ],
   "source": [
    "#change avocado type to categorical variable\n",
    "\n",
    "av_df['type'] = av_df['type'].astype('category')\n",
    "av_df['type'].dtype"
   ]
  },
  {
   "cell_type": "markdown",
   "metadata": {},
   "source": [
    "#### Duplicates checking"
   ]
  },
  {
   "cell_type": "code",
   "execution_count": 1070,
   "metadata": {},
   "outputs": [],
   "source": [
    "# Check if there are duplicates\n",
    "columns = ['date', 'total_volume', 'region']\n",
    "duplicates = av_df.duplicated(subset = columns, keep = False)\n",
    "assert av_df[duplicates]['date'].count() == 0\n",
    "\n",
    "# As we can see there are no duplicates"
   ]
  },
  {
   "cell_type": "code",
   "execution_count": 1071,
   "metadata": {},
   "outputs": [
    {
     "output_type": "execute_result",
     "data": {
      "text/plain": "array(['Albany', 'Atlanta', 'BaltimoreWashington', 'Boise', 'Boston',\n       'BuffaloRochester', 'California', 'Charlotte', 'Chicago',\n       'CincinnatiDayton', 'Columbus', 'DallasFtWorth', 'Denver',\n       'Detroit', 'GrandRapids', 'GreatLakes', 'HarrisburgScranton',\n       'HartfordSpringfield', 'Houston', 'Indianapolis', 'Jacksonville',\n       'LasVegas', 'LosAngeles', 'Louisville', 'MiamiFtLauderdale',\n       'Midsouth', 'Nashville', 'NewOrleansMobile', 'NewYork',\n       'Northeast', 'NorthernNewEngland', 'Orlando', 'Philadelphia',\n       'PhoenixTucson', 'Pittsburgh', 'Plains', 'Portland',\n       'RaleighGreensboro', 'RichmondNorfolk', 'Roanoke', 'Sacramento',\n       'SanDiego', 'SanFrancisco', 'Seattle', 'SouthCarolina',\n       'SouthCentral', 'Southeast', 'Spokane', 'StLouis', 'Syracuse',\n       'Tampa', 'TotalUS', 'West', 'WestTexNewMexico'], dtype=object)"
     },
     "metadata": {},
     "execution_count": 1071
    }
   ],
   "source": [
    "av_df['region'].unique()"
   ]
  },
  {
   "cell_type": "code",
   "execution_count": 1072,
   "metadata": {},
   "outputs": [
    {
     "output_type": "execute_result",
     "data": {
      "text/plain": "array(['Albany', 'Atlanta', 'BaltimoreWashington', 'Boise', 'Boston',\n       'BuffaloRochester', 'California', 'Charlotte', 'Chicago',\n       'CincinnatiDayton', 'Columbus', 'DallasFtWorth', 'Denver',\n       'Detroit', 'GrandRapids', 'GreatLakes', 'HarrisburgScranton',\n       'HartfordSpringfield', 'Houston', 'Indianapolis', 'Jacksonville',\n       'LasVegas', 'LosAngeles', 'Louisville', 'MiamiFtLauderdale',\n       'Midsouth', 'Nashville', 'NewOrleansMobile', 'NewYork',\n       'Northeast', 'NorthernNewEngland', 'Orlando', 'Philadelphia',\n       'PhoenixTucson', 'Pittsburgh', 'Plains', 'Portland',\n       'RaleighGreensboro', 'RichmondNorfolk', 'Roanoke', 'Sacramento',\n       'SanDiego', 'SanFrancisco', 'Seattle', 'SouthCarolina',\n       'SouthCentral', 'Southeast', 'Spokane', 'StLouis', 'Syracuse',\n       'Tampa', 'West', 'WestTexNewMexico'], dtype=object)"
     },
     "metadata": {},
     "execution_count": 1072
    }
   ],
   "source": [
    "# region = TotalUS is not a region description but summary information. Therefore, I'll delete these rows\n",
    "\n",
    "av_df = av_df[av_df['region'] != 'TotalUS']\n",
    "av_df['region'].unique()"
   ]
  },
  {
   "cell_type": "markdown",
   "metadata": {},
   "source": [
    "### Check for consistency"
   ]
  },
  {
   "cell_type": "code",
   "execution_count": 1073,
   "metadata": {},
   "outputs": [
    {
     "output_type": "execute_result",
     "data": {
      "text/plain": "        date  avg_price  total_volume  small_av  large_av  xlarge_av  \\\n0 2015-12-27       1.33      64236.62   1036.74  54454.85      48.16   \n1 2015-12-20       1.35      54876.98    674.28  44638.81      58.33   \n\n   total_bags  small_bags  large_bags  xlarge_bags          type  year  region  \n0     8696.87     8603.62       93.25          0.0  conventional  2015  Albany  \n1     9505.56     9408.07       97.49          0.0  conventional  2015  Albany  ",
      "text/html": "<div>\n<style scoped>\n    .dataframe tbody tr th:only-of-type {\n        vertical-align: middle;\n    }\n\n    .dataframe tbody tr th {\n        vertical-align: top;\n    }\n\n    .dataframe thead th {\n        text-align: right;\n    }\n</style>\n<table border=\"1\" class=\"dataframe\">\n  <thead>\n    <tr style=\"text-align: right;\">\n      <th></th>\n      <th>date</th>\n      <th>avg_price</th>\n      <th>total_volume</th>\n      <th>small_av</th>\n      <th>large_av</th>\n      <th>xlarge_av</th>\n      <th>total_bags</th>\n      <th>small_bags</th>\n      <th>large_bags</th>\n      <th>xlarge_bags</th>\n      <th>type</th>\n      <th>year</th>\n      <th>region</th>\n    </tr>\n  </thead>\n  <tbody>\n    <tr>\n      <th>0</th>\n      <td>2015-12-27</td>\n      <td>1.33</td>\n      <td>64236.62</td>\n      <td>1036.74</td>\n      <td>54454.85</td>\n      <td>48.16</td>\n      <td>8696.87</td>\n      <td>8603.62</td>\n      <td>93.25</td>\n      <td>0.0</td>\n      <td>conventional</td>\n      <td>2015</td>\n      <td>Albany</td>\n    </tr>\n    <tr>\n      <th>1</th>\n      <td>2015-12-20</td>\n      <td>1.35</td>\n      <td>54876.98</td>\n      <td>674.28</td>\n      <td>44638.81</td>\n      <td>58.33</td>\n      <td>9505.56</td>\n      <td>9408.07</td>\n      <td>97.49</td>\n      <td>0.0</td>\n      <td>conventional</td>\n      <td>2015</td>\n      <td>Albany</td>\n    </tr>\n  </tbody>\n</table>\n</div>"
     },
     "metadata": {},
     "execution_count": 1073
    }
   ],
   "source": [
    "av_df.head(2)"
   ]
  },
  {
   "cell_type": "code",
   "execution_count": 1074,
   "metadata": {},
   "outputs": [
    {
     "output_type": "stream",
     "name": "stdout",
     "text": "consistent bags:  13967 \ninconsistent bags:  3944 \n\nconsistent volume:  12051 \ninconsistent volume: 5860 \n\ntotal volume:  9658662411.599998\n"
    }
   ],
   "source": [
    "# check for consistency\n",
    "total_bags_equ = av_df.total_bags == (av_df.small_bags+av_df.large_bags+av_df.xlarge_bags)\n",
    "inconsistent_bags = av_df[~total_bags_equ]\n",
    "consistent_bags = av_df[total_bags_equ]\n",
    "\n",
    "total_volume_equ = av_df['total_volume'] == av_df['total_bags'] + av_df['small_av'] + av_df['large_av'] + av_df['xlarge_av']\n",
    "inconsistent_volume = av_df[~total_volume_equ]\n",
    "consistent_volume = av_df[total_volume_equ]\n",
    "\n",
    "print(\n",
    "    'consistent bags: ', consistent_bags.shape[0], \n",
    "    '\\ninconsistent bags: ', inconsistent_bags.shape[0], \n",
    "    '\\n\\nconsistent volume: ', consistent_volume.shape[0], \n",
    "    '\\ninconsistent volume:', inconsistent_volume.shape[0], \n",
    "    '\\n\\ntotal volume: ', av_df['total_volume'].sum())"
   ]
  },
  {
   "cell_type": "code",
   "execution_count": 1075,
   "metadata": {},
   "outputs": [
    {
     "output_type": "stream",
     "name": "stdout",
     "text": "Total volume:  9658662389 \n\nValues types:\n date            datetime64[ns]\navg_price              float64\ntotal_volume             int64\nsmall_av                 int64\nlarge_av                 int64\nxlarge_av                int64\ntotal_bags               int64\nsmall_bags               int64\nlarge_bags               int64\nxlarge_bags              int64\ntype                  category\nyear                     int64\nregion                  object\ndtype: object\n"
    }
   ],
   "source": [
    "# Number of avocado sold couldn't be a float. Due to rounding operation we see a lot of values with inconsistency. Therefore I decided to convert values to integer (but before I'll round them to avoid big influence).\n",
    "\n",
    "float_columns = ['total_volume', 'small_av', 'large_av', 'xlarge_av', \n",
    "                 'total_bags', 'small_bags', 'large_bags', 'xlarge_bags']\n",
    "av_df[float_columns] = av_df[float_columns].round(0).astype('int')\n",
    "\n",
    "# Let's check 'total volume value' after rounding:\n",
    "total_vol = av_df['total_volume'].sum()\n",
    "\n",
    "print('Total volume: ', total_vol, '\\n\\nValues types:\\n', av_df.dtypes)"
   ]
  },
  {
   "cell_type": "code",
   "execution_count": 1076,
   "metadata": {},
   "outputs": [],
   "source": [
    "# For further analyses the most important columns are totals. Therefore I don't want to influence on them while eliminating inconsistence. So, I will recalculate amounts of small avocados sold and small bags sold.\n",
    "\n",
    "av_df['small_bags'] = av_df['total_bags'] - av_df['large_bags'] - av_df['xlarge_bags']\n",
    "av_df['small_av'] = av_df['total_volume'] - av_df['large_av'] - av_df['xlarge_av'] - av_df['total_bags']"
   ]
  },
  {
   "cell_type": "code",
   "execution_count": 1077,
   "metadata": {},
   "outputs": [
    {
     "output_type": "stream",
     "name": "stdout",
     "text": "inconsistent bags:  0 \ninconsistent volume: 0 \ntotal volume change:  0\n"
    }
   ],
   "source": [
    "# Let's check inconsistency once more\n",
    "total_bags_equ = av_df.total_bags == (av_df.small_bags+av_df.large_bags+av_df.xlarge_bags)\n",
    "inconsistent_bags = av_df[~total_bags_equ]\n",
    "\n",
    "total_volume_equ = av_df['total_volume'] == av_df['total_bags'] + av_df['small_av'] + av_df['large_av'] + av_df['xlarge_av']\n",
    "inconsistent_volume = av_df[~total_volume_equ]\n",
    "print('inconsistent bags: ', inconsistent_bags.shape[0], \n",
    "      '\\ninconsistent volume:', inconsistent_volume.shape[0],\n",
    "      '\\ntotal volume change: ', av_df.total_volume.sum() - total_vol)"
   ]
  },
  {
   "cell_type": "markdown",
   "metadata": {},
   "source": [
    "### Analysing price"
   ]
  },
  {
   "cell_type": "code",
   "execution_count": 1078,
   "metadata": {},
   "outputs": [
    {
     "output_type": "display_data",
     "data": {
      "text/plain": "<Figure size 432x288 with 1 Axes>",
      "image/svg+xml": "<?xml version=\"1.0\" encoding=\"utf-8\" standalone=\"no\"?>\n<!DOCTYPE svg PUBLIC \"-//W3C//DTD SVG 1.1//EN\"\n  \"http://www.w3.org/Graphics/SVG/1.1/DTD/svg11.dtd\">\n<!-- Created with matplotlib (https://matplotlib.org/) -->\n<svg height=\"277.314375pt\" version=\"1.1\" viewBox=\"0 0 395.328125 277.314375\" width=\"395.328125pt\" xmlns=\"http://www.w3.org/2000/svg\" xmlns:xlink=\"http://www.w3.org/1999/xlink\">\n <defs>\n  <style type=\"text/css\">\n*{stroke-linecap:butt;stroke-linejoin:round;white-space:pre;}\n  </style>\n </defs>\n <g id=\"figure_1\">\n  <g id=\"patch_1\">\n   <path d=\"M 0 277.314375 \nL 395.328125 277.314375 \nL 395.328125 0 \nL 0 0 \nz\n\" style=\"fill:none;\"/>\n  </g>\n  <g id=\"axes_1\">\n   <g id=\"patch_2\">\n    <path d=\"M 53.328125 239.758125 \nL 388.128125 239.758125 \nL 388.128125 22.318125 \nL 53.328125 22.318125 \nz\n\" style=\"fill:#ffffff;\"/>\n   </g>\n   <g id=\"patch_3\">\n    <path clip-path=\"url(#pdafbe86eb7)\" d=\"M 68.546307 239.758125 \nL 98.98267 239.758125 \nL 98.98267 225.254238 \nL 68.546307 225.254238 \nz\n\" style=\"fill:#add8e6;\"/>\n   </g>\n   <g id=\"patch_4\">\n    <path clip-path=\"url(#pdafbe86eb7)\" d=\"M 98.98267 239.758125 \nL 129.419034 239.758125 \nL 129.419034 127.188679 \nL 98.98267 127.188679 \nz\n\" style=\"fill:#add8e6;\"/>\n   </g>\n   <g id=\"patch_5\">\n    <path clip-path=\"url(#pdafbe86eb7)\" d=\"M 129.419034 239.758125 \nL 159.855398 239.758125 \nL 159.855398 32.672411 \nL 129.419034 32.672411 \nz\n\" style=\"fill:#add8e6;\"/>\n   </g>\n   <g id=\"patch_6\">\n    <path clip-path=\"url(#pdafbe86eb7)\" d=\"M 159.855398 239.758125 \nL 190.291761 239.758125 \nL 190.291761 46.694296 \nL 159.855398 46.694296 \nz\n\" style=\"fill:#add8e6;\"/>\n   </g>\n   <g id=\"patch_7\">\n    <path clip-path=\"url(#pdafbe86eb7)\" d=\"M 190.291761 239.758125 \nL 220.728125 239.758125 \nL 220.728125 93.14179 \nL 190.291761 93.14179 \nz\n\" style=\"fill:#add8e6;\"/>\n   </g>\n   <g id=\"patch_8\">\n    <path clip-path=\"url(#pdafbe86eb7)\" d=\"M 220.728125 239.758125 \nL 251.164489 239.758125 \nL 251.164489 166.975778 \nL 220.728125 166.975778 \nz\n\" style=\"fill:#add8e6;\"/>\n   </g>\n   <g id=\"patch_9\">\n    <path clip-path=\"url(#pdafbe86eb7)\" d=\"M 251.164489 239.758125 \nL 281.600852 239.758125 \nL 281.600852 213.554727 \nL 251.164489 213.554727 \nz\n\" style=\"fill:#add8e6;\"/>\n   </g>\n   <g id=\"patch_10\">\n    <path clip-path=\"url(#pdafbe86eb7)\" d=\"M 281.600852 239.758125 \nL 312.037216 239.758125 \nL 312.037216 232.00227 \nL 281.600852 232.00227 \nz\n\" style=\"fill:#add8e6;\"/>\n   </g>\n   <g id=\"patch_11\">\n    <path clip-path=\"url(#pdafbe86eb7)\" d=\"M 312.037216 239.758125 \nL 342.47358 239.758125 \nL 342.47358 235.989743 \nL 312.037216 235.989743 \nz\n\" style=\"fill:#add8e6;\"/>\n   </g>\n   <g id=\"patch_12\">\n    <path clip-path=\"url(#pdafbe86eb7)\" d=\"M 342.47358 239.758125 \nL 372.909943 239.758125 \nL 372.909943 239.276123 \nL 342.47358 239.276123 \nz\n\" style=\"fill:#add8e6;\"/>\n   </g>\n   <g id=\"matplotlib.axis_1\">\n    <g id=\"xtick_1\">\n     <g id=\"line2d_1\">\n      <defs>\n       <path d=\"M 0 0 \nL 0 3.5 \n\" id=\"m9f9aa6c1a8\" style=\"stroke:#000000;stroke-width:0.8;\"/>\n      </defs>\n      <g>\n       <use style=\"stroke:#000000;stroke-width:0.8;\" x=\"75.045174\" xlink:href=\"#m9f9aa6c1a8\" y=\"239.758125\"/>\n      </g>\n     </g>\n     <g id=\"text_1\">\n      <!-- 0.5 -->\n      <defs>\n       <path d=\"M 31.78125 66.40625 \nQ 24.171875 66.40625 20.328125 58.90625 \nQ 16.5 51.421875 16.5 36.375 \nQ 16.5 21.390625 20.328125 13.890625 \nQ 24.171875 6.390625 31.78125 6.390625 \nQ 39.453125 6.390625 43.28125 13.890625 \nQ 47.125 21.390625 47.125 36.375 \nQ 47.125 51.421875 43.28125 58.90625 \nQ 39.453125 66.40625 31.78125 66.40625 \nz\nM 31.78125 74.21875 \nQ 44.046875 74.21875 50.515625 64.515625 \nQ 56.984375 54.828125 56.984375 36.375 \nQ 56.984375 17.96875 50.515625 8.265625 \nQ 44.046875 -1.421875 31.78125 -1.421875 \nQ 19.53125 -1.421875 13.0625 8.265625 \nQ 6.59375 17.96875 6.59375 36.375 \nQ 6.59375 54.828125 13.0625 64.515625 \nQ 19.53125 74.21875 31.78125 74.21875 \nz\n\" id=\"DejaVuSans-48\"/>\n       <path d=\"M 10.6875 12.40625 \nL 21 12.40625 \nL 21 0 \nL 10.6875 0 \nz\n\" id=\"DejaVuSans-46\"/>\n       <path d=\"M 10.796875 72.90625 \nL 49.515625 72.90625 \nL 49.515625 64.59375 \nL 19.828125 64.59375 \nL 19.828125 46.734375 \nQ 21.96875 47.46875 24.109375 47.828125 \nQ 26.265625 48.1875 28.421875 48.1875 \nQ 40.625 48.1875 47.75 41.5 \nQ 54.890625 34.8125 54.890625 23.390625 \nQ 54.890625 11.625 47.5625 5.09375 \nQ 40.234375 -1.421875 26.90625 -1.421875 \nQ 22.3125 -1.421875 17.546875 -0.640625 \nQ 12.796875 0.140625 7.71875 1.703125 \nL 7.71875 11.625 \nQ 12.109375 9.234375 16.796875 8.0625 \nQ 21.484375 6.890625 26.703125 6.890625 \nQ 35.15625 6.890625 40.078125 11.328125 \nQ 45.015625 15.765625 45.015625 23.390625 \nQ 45.015625 31 40.078125 35.4375 \nQ 35.15625 39.890625 26.703125 39.890625 \nQ 22.75 39.890625 18.8125 39.015625 \nQ 14.890625 38.140625 10.796875 36.28125 \nz\n\" id=\"DejaVuSans-53\"/>\n      </defs>\n      <g transform=\"translate(67.093612 254.356562)scale(0.1 -0.1)\">\n       <use xlink:href=\"#DejaVuSans-48\"/>\n       <use x=\"63.623047\" xlink:href=\"#DejaVuSans-46\"/>\n       <use x=\"95.410156\" xlink:href=\"#DejaVuSans-53\"/>\n      </g>\n     </g>\n    </g>\n    <g id=\"xtick_2\">\n     <g id=\"line2d_2\">\n      <g>\n       <use style=\"stroke:#000000;stroke-width:0.8;\" x=\"129.202405\" xlink:href=\"#m9f9aa6c1a8\" y=\"239.758125\"/>\n      </g>\n     </g>\n     <g id=\"text_2\">\n      <!-- 1.0 -->\n      <defs>\n       <path d=\"M 12.40625 8.296875 \nL 28.515625 8.296875 \nL 28.515625 63.921875 \nL 10.984375 60.40625 \nL 10.984375 69.390625 \nL 28.421875 72.90625 \nL 38.28125 72.90625 \nL 38.28125 8.296875 \nL 54.390625 8.296875 \nL 54.390625 0 \nL 12.40625 0 \nz\n\" id=\"DejaVuSans-49\"/>\n      </defs>\n      <g transform=\"translate(121.250843 254.356562)scale(0.1 -0.1)\">\n       <use xlink:href=\"#DejaVuSans-49\"/>\n       <use x=\"63.623047\" xlink:href=\"#DejaVuSans-46\"/>\n       <use x=\"95.410156\" xlink:href=\"#DejaVuSans-48\"/>\n      </g>\n     </g>\n    </g>\n    <g id=\"xtick_3\">\n     <g id=\"line2d_3\">\n      <g>\n       <use style=\"stroke:#000000;stroke-width:0.8;\" x=\"183.359636\" xlink:href=\"#m9f9aa6c1a8\" y=\"239.758125\"/>\n      </g>\n     </g>\n     <g id=\"text_3\">\n      <!-- 1.5 -->\n      <g transform=\"translate(175.408073 254.356562)scale(0.1 -0.1)\">\n       <use xlink:href=\"#DejaVuSans-49\"/>\n       <use x=\"63.623047\" xlink:href=\"#DejaVuSans-46\"/>\n       <use x=\"95.410156\" xlink:href=\"#DejaVuSans-53\"/>\n      </g>\n     </g>\n    </g>\n    <g id=\"xtick_4\">\n     <g id=\"line2d_4\">\n      <g>\n       <use style=\"stroke:#000000;stroke-width:0.8;\" x=\"237.516867\" xlink:href=\"#m9f9aa6c1a8\" y=\"239.758125\"/>\n      </g>\n     </g>\n     <g id=\"text_4\">\n      <!-- 2.0 -->\n      <defs>\n       <path d=\"M 19.1875 8.296875 \nL 53.609375 8.296875 \nL 53.609375 0 \nL 7.328125 0 \nL 7.328125 8.296875 \nQ 12.9375 14.109375 22.625 23.890625 \nQ 32.328125 33.6875 34.8125 36.53125 \nQ 39.546875 41.84375 41.421875 45.53125 \nQ 43.3125 49.21875 43.3125 52.78125 \nQ 43.3125 58.59375 39.234375 62.25 \nQ 35.15625 65.921875 28.609375 65.921875 \nQ 23.96875 65.921875 18.8125 64.3125 \nQ 13.671875 62.703125 7.8125 59.421875 \nL 7.8125 69.390625 \nQ 13.765625 71.78125 18.9375 73 \nQ 24.125 74.21875 28.421875 74.21875 \nQ 39.75 74.21875 46.484375 68.546875 \nQ 53.21875 62.890625 53.21875 53.421875 \nQ 53.21875 48.921875 51.53125 44.890625 \nQ 49.859375 40.875 45.40625 35.40625 \nQ 44.1875 33.984375 37.640625 27.21875 \nQ 31.109375 20.453125 19.1875 8.296875 \nz\n\" id=\"DejaVuSans-50\"/>\n      </defs>\n      <g transform=\"translate(229.565304 254.356562)scale(0.1 -0.1)\">\n       <use xlink:href=\"#DejaVuSans-50\"/>\n       <use x=\"63.623047\" xlink:href=\"#DejaVuSans-46\"/>\n       <use x=\"95.410156\" xlink:href=\"#DejaVuSans-48\"/>\n      </g>\n     </g>\n    </g>\n    <g id=\"xtick_5\">\n     <g id=\"line2d_5\">\n      <g>\n       <use style=\"stroke:#000000;stroke-width:0.8;\" x=\"291.674097\" xlink:href=\"#m9f9aa6c1a8\" y=\"239.758125\"/>\n      </g>\n     </g>\n     <g id=\"text_5\">\n      <!-- 2.5 -->\n      <g transform=\"translate(283.722535 254.356562)scale(0.1 -0.1)\">\n       <use xlink:href=\"#DejaVuSans-50\"/>\n       <use x=\"63.623047\" xlink:href=\"#DejaVuSans-46\"/>\n       <use x=\"95.410156\" xlink:href=\"#DejaVuSans-53\"/>\n      </g>\n     </g>\n    </g>\n    <g id=\"xtick_6\">\n     <g id=\"line2d_6\">\n      <g>\n       <use style=\"stroke:#000000;stroke-width:0.8;\" x=\"345.831328\" xlink:href=\"#m9f9aa6c1a8\" y=\"239.758125\"/>\n      </g>\n     </g>\n     <g id=\"text_6\">\n      <!-- 3.0 -->\n      <defs>\n       <path d=\"M 40.578125 39.3125 \nQ 47.65625 37.796875 51.625 33 \nQ 55.609375 28.21875 55.609375 21.1875 \nQ 55.609375 10.40625 48.1875 4.484375 \nQ 40.765625 -1.421875 27.09375 -1.421875 \nQ 22.515625 -1.421875 17.65625 -0.515625 \nQ 12.796875 0.390625 7.625 2.203125 \nL 7.625 11.71875 \nQ 11.71875 9.328125 16.59375 8.109375 \nQ 21.484375 6.890625 26.8125 6.890625 \nQ 36.078125 6.890625 40.9375 10.546875 \nQ 45.796875 14.203125 45.796875 21.1875 \nQ 45.796875 27.640625 41.28125 31.265625 \nQ 36.765625 34.90625 28.71875 34.90625 \nL 20.21875 34.90625 \nL 20.21875 43.015625 \nL 29.109375 43.015625 \nQ 36.375 43.015625 40.234375 45.921875 \nQ 44.09375 48.828125 44.09375 54.296875 \nQ 44.09375 59.90625 40.109375 62.90625 \nQ 36.140625 65.921875 28.71875 65.921875 \nQ 24.65625 65.921875 20.015625 65.03125 \nQ 15.375 64.15625 9.8125 62.3125 \nL 9.8125 71.09375 \nQ 15.4375 72.65625 20.34375 73.4375 \nQ 25.25 74.21875 29.59375 74.21875 \nQ 40.828125 74.21875 47.359375 69.109375 \nQ 53.90625 64.015625 53.90625 55.328125 \nQ 53.90625 49.265625 50.4375 45.09375 \nQ 46.96875 40.921875 40.578125 39.3125 \nz\n\" id=\"DejaVuSans-51\"/>\n      </defs>\n      <g transform=\"translate(337.879765 254.356562)scale(0.1 -0.1)\">\n       <use xlink:href=\"#DejaVuSans-51\"/>\n       <use x=\"63.623047\" xlink:href=\"#DejaVuSans-46\"/>\n       <use x=\"95.410156\" xlink:href=\"#DejaVuSans-48\"/>\n      </g>\n     </g>\n    </g>\n    <g id=\"text_7\">\n     <!-- Price -->\n     <defs>\n      <path d=\"M 19.671875 64.796875 \nL 19.671875 37.40625 \nL 32.078125 37.40625 \nQ 38.96875 37.40625 42.71875 40.96875 \nQ 46.484375 44.53125 46.484375 51.125 \nQ 46.484375 57.671875 42.71875 61.234375 \nQ 38.96875 64.796875 32.078125 64.796875 \nz\nM 9.8125 72.90625 \nL 32.078125 72.90625 \nQ 44.34375 72.90625 50.609375 67.359375 \nQ 56.890625 61.8125 56.890625 51.125 \nQ 56.890625 40.328125 50.609375 34.8125 \nQ 44.34375 29.296875 32.078125 29.296875 \nL 19.671875 29.296875 \nL 19.671875 0 \nL 9.8125 0 \nz\n\" id=\"DejaVuSans-80\"/>\n      <path d=\"M 41.109375 46.296875 \nQ 39.59375 47.171875 37.8125 47.578125 \nQ 36.03125 48 33.890625 48 \nQ 26.265625 48 22.1875 43.046875 \nQ 18.109375 38.09375 18.109375 28.8125 \nL 18.109375 0 \nL 9.078125 0 \nL 9.078125 54.6875 \nL 18.109375 54.6875 \nL 18.109375 46.1875 \nQ 20.953125 51.171875 25.484375 53.578125 \nQ 30.03125 56 36.53125 56 \nQ 37.453125 56 38.578125 55.875 \nQ 39.703125 55.765625 41.0625 55.515625 \nz\n\" id=\"DejaVuSans-114\"/>\n      <path d=\"M 9.421875 54.6875 \nL 18.40625 54.6875 \nL 18.40625 0 \nL 9.421875 0 \nz\nM 9.421875 75.984375 \nL 18.40625 75.984375 \nL 18.40625 64.59375 \nL 9.421875 64.59375 \nz\n\" id=\"DejaVuSans-105\"/>\n      <path d=\"M 48.78125 52.59375 \nL 48.78125 44.1875 \nQ 44.96875 46.296875 41.140625 47.34375 \nQ 37.3125 48.390625 33.40625 48.390625 \nQ 24.65625 48.390625 19.8125 42.84375 \nQ 14.984375 37.3125 14.984375 27.296875 \nQ 14.984375 17.28125 19.8125 11.734375 \nQ 24.65625 6.203125 33.40625 6.203125 \nQ 37.3125 6.203125 41.140625 7.25 \nQ 44.96875 8.296875 48.78125 10.40625 \nL 48.78125 2.09375 \nQ 45.015625 0.34375 40.984375 -0.53125 \nQ 36.96875 -1.421875 32.421875 -1.421875 \nQ 20.0625 -1.421875 12.78125 6.34375 \nQ 5.515625 14.109375 5.515625 27.296875 \nQ 5.515625 40.671875 12.859375 48.328125 \nQ 20.21875 56 33.015625 56 \nQ 37.15625 56 41.109375 55.140625 \nQ 45.0625 54.296875 48.78125 52.59375 \nz\n\" id=\"DejaVuSans-99\"/>\n      <path d=\"M 56.203125 29.59375 \nL 56.203125 25.203125 \nL 14.890625 25.203125 \nQ 15.484375 15.921875 20.484375 11.0625 \nQ 25.484375 6.203125 34.421875 6.203125 \nQ 39.59375 6.203125 44.453125 7.46875 \nQ 49.3125 8.734375 54.109375 11.28125 \nL 54.109375 2.78125 \nQ 49.265625 0.734375 44.1875 -0.34375 \nQ 39.109375 -1.421875 33.890625 -1.421875 \nQ 20.796875 -1.421875 13.15625 6.1875 \nQ 5.515625 13.8125 5.515625 26.8125 \nQ 5.515625 40.234375 12.765625 48.109375 \nQ 20.015625 56 32.328125 56 \nQ 43.359375 56 49.78125 48.890625 \nQ 56.203125 41.796875 56.203125 29.59375 \nz\nM 47.21875 32.234375 \nQ 47.125 39.59375 43.09375 43.984375 \nQ 39.0625 48.390625 32.421875 48.390625 \nQ 24.90625 48.390625 20.390625 44.140625 \nQ 15.875 39.890625 15.1875 32.171875 \nz\n\" id=\"DejaVuSans-101\"/>\n     </defs>\n     <g transform=\"translate(208.44375 268.034687)scale(0.1 -0.1)\">\n      <use xlink:href=\"#DejaVuSans-80\"/>\n      <use x=\"60.287109\" xlink:href=\"#DejaVuSans-114\"/>\n      <use x=\"101.400391\" xlink:href=\"#DejaVuSans-105\"/>\n      <use x=\"129.183594\" xlink:href=\"#DejaVuSans-99\"/>\n      <use x=\"184.164062\" xlink:href=\"#DejaVuSans-101\"/>\n     </g>\n    </g>\n   </g>\n   <g id=\"matplotlib.axis_2\">\n    <g id=\"ytick_1\">\n     <g id=\"line2d_7\">\n      <defs>\n       <path d=\"M 0 0 \nL -3.5 0 \n\" id=\"m28d866bbe6\" style=\"stroke:#000000;stroke-width:0.8;\"/>\n      </defs>\n      <g>\n       <use style=\"stroke:#000000;stroke-width:0.8;\" x=\"53.328125\" xlink:href=\"#m28d866bbe6\" y=\"239.758125\"/>\n      </g>\n     </g>\n     <g id=\"text_8\">\n      <!-- 0 -->\n      <g transform=\"translate(39.965625 243.557344)scale(0.1 -0.1)\">\n       <use xlink:href=\"#DejaVuSans-48\"/>\n      </g>\n     </g>\n    </g>\n    <g id=\"ytick_2\">\n     <g id=\"line2d_8\">\n      <g>\n       <use style=\"stroke:#000000;stroke-width:0.8;\" x=\"53.328125\" xlink:href=\"#m28d866bbe6\" y=\"195.939734\"/>\n      </g>\n     </g>\n     <g id=\"text_9\">\n      <!-- 1000 -->\n      <g transform=\"translate(20.878125 199.738953)scale(0.1 -0.1)\">\n       <use xlink:href=\"#DejaVuSans-49\"/>\n       <use x=\"63.623047\" xlink:href=\"#DejaVuSans-48\"/>\n       <use x=\"127.246094\" xlink:href=\"#DejaVuSans-48\"/>\n       <use x=\"190.869141\" xlink:href=\"#DejaVuSans-48\"/>\n      </g>\n     </g>\n    </g>\n    <g id=\"ytick_3\">\n     <g id=\"line2d_9\">\n      <g>\n       <use style=\"stroke:#000000;stroke-width:0.8;\" x=\"53.328125\" xlink:href=\"#m28d866bbe6\" y=\"152.121344\"/>\n      </g>\n     </g>\n     <g id=\"text_10\">\n      <!-- 2000 -->\n      <g transform=\"translate(20.878125 155.920562)scale(0.1 -0.1)\">\n       <use xlink:href=\"#DejaVuSans-50\"/>\n       <use x=\"63.623047\" xlink:href=\"#DejaVuSans-48\"/>\n       <use x=\"127.246094\" xlink:href=\"#DejaVuSans-48\"/>\n       <use x=\"190.869141\" xlink:href=\"#DejaVuSans-48\"/>\n      </g>\n     </g>\n    </g>\n    <g id=\"ytick_4\">\n     <g id=\"line2d_10\">\n      <g>\n       <use style=\"stroke:#000000;stroke-width:0.8;\" x=\"53.328125\" xlink:href=\"#m28d866bbe6\" y=\"108.302953\"/>\n      </g>\n     </g>\n     <g id=\"text_11\">\n      <!-- 3000 -->\n      <g transform=\"translate(20.878125 112.102172)scale(0.1 -0.1)\">\n       <use xlink:href=\"#DejaVuSans-51\"/>\n       <use x=\"63.623047\" xlink:href=\"#DejaVuSans-48\"/>\n       <use x=\"127.246094\" xlink:href=\"#DejaVuSans-48\"/>\n       <use x=\"190.869141\" xlink:href=\"#DejaVuSans-48\"/>\n      </g>\n     </g>\n    </g>\n    <g id=\"ytick_5\">\n     <g id=\"line2d_11\">\n      <g>\n       <use style=\"stroke:#000000;stroke-width:0.8;\" x=\"53.328125\" xlink:href=\"#m28d866bbe6\" y=\"64.484562\"/>\n      </g>\n     </g>\n     <g id=\"text_12\">\n      <!-- 4000 -->\n      <defs>\n       <path d=\"M 37.796875 64.3125 \nL 12.890625 25.390625 \nL 37.796875 25.390625 \nz\nM 35.203125 72.90625 \nL 47.609375 72.90625 \nL 47.609375 25.390625 \nL 58.015625 25.390625 \nL 58.015625 17.1875 \nL 47.609375 17.1875 \nL 47.609375 0 \nL 37.796875 0 \nL 37.796875 17.1875 \nL 4.890625 17.1875 \nL 4.890625 26.703125 \nz\n\" id=\"DejaVuSans-52\"/>\n      </defs>\n      <g transform=\"translate(20.878125 68.283781)scale(0.1 -0.1)\">\n       <use xlink:href=\"#DejaVuSans-52\"/>\n       <use x=\"63.623047\" xlink:href=\"#DejaVuSans-48\"/>\n       <use x=\"127.246094\" xlink:href=\"#DejaVuSans-48\"/>\n       <use x=\"190.869141\" xlink:href=\"#DejaVuSans-48\"/>\n      </g>\n     </g>\n    </g>\n    <g id=\"text_13\">\n     <!-- Number of avocados -->\n     <defs>\n      <path d=\"M 9.8125 72.90625 \nL 23.09375 72.90625 \nL 55.421875 11.921875 \nL 55.421875 72.90625 \nL 64.984375 72.90625 \nL 64.984375 0 \nL 51.703125 0 \nL 19.390625 60.984375 \nL 19.390625 0 \nL 9.8125 0 \nz\n\" id=\"DejaVuSans-78\"/>\n      <path d=\"M 8.5 21.578125 \nL 8.5 54.6875 \nL 17.484375 54.6875 \nL 17.484375 21.921875 \nQ 17.484375 14.15625 20.5 10.265625 \nQ 23.53125 6.390625 29.59375 6.390625 \nQ 36.859375 6.390625 41.078125 11.03125 \nQ 45.3125 15.671875 45.3125 23.6875 \nL 45.3125 54.6875 \nL 54.296875 54.6875 \nL 54.296875 0 \nL 45.3125 0 \nL 45.3125 8.40625 \nQ 42.046875 3.421875 37.71875 1 \nQ 33.40625 -1.421875 27.6875 -1.421875 \nQ 18.265625 -1.421875 13.375 4.4375 \nQ 8.5 10.296875 8.5 21.578125 \nz\nM 31.109375 56 \nz\n\" id=\"DejaVuSans-117\"/>\n      <path d=\"M 52 44.1875 \nQ 55.375 50.25 60.0625 53.125 \nQ 64.75 56 71.09375 56 \nQ 79.640625 56 84.28125 50.015625 \nQ 88.921875 44.046875 88.921875 33.015625 \nL 88.921875 0 \nL 79.890625 0 \nL 79.890625 32.71875 \nQ 79.890625 40.578125 77.09375 44.375 \nQ 74.3125 48.1875 68.609375 48.1875 \nQ 61.625 48.1875 57.5625 43.546875 \nQ 53.515625 38.921875 53.515625 30.90625 \nL 53.515625 0 \nL 44.484375 0 \nL 44.484375 32.71875 \nQ 44.484375 40.625 41.703125 44.40625 \nQ 38.921875 48.1875 33.109375 48.1875 \nQ 26.21875 48.1875 22.15625 43.53125 \nQ 18.109375 38.875 18.109375 30.90625 \nL 18.109375 0 \nL 9.078125 0 \nL 9.078125 54.6875 \nL 18.109375 54.6875 \nL 18.109375 46.1875 \nQ 21.1875 51.21875 25.484375 53.609375 \nQ 29.78125 56 35.6875 56 \nQ 41.65625 56 45.828125 52.96875 \nQ 50 49.953125 52 44.1875 \nz\n\" id=\"DejaVuSans-109\"/>\n      <path d=\"M 48.6875 27.296875 \nQ 48.6875 37.203125 44.609375 42.84375 \nQ 40.53125 48.484375 33.40625 48.484375 \nQ 26.265625 48.484375 22.1875 42.84375 \nQ 18.109375 37.203125 18.109375 27.296875 \nQ 18.109375 17.390625 22.1875 11.75 \nQ 26.265625 6.109375 33.40625 6.109375 \nQ 40.53125 6.109375 44.609375 11.75 \nQ 48.6875 17.390625 48.6875 27.296875 \nz\nM 18.109375 46.390625 \nQ 20.953125 51.265625 25.265625 53.625 \nQ 29.59375 56 35.59375 56 \nQ 45.5625 56 51.78125 48.09375 \nQ 58.015625 40.1875 58.015625 27.296875 \nQ 58.015625 14.40625 51.78125 6.484375 \nQ 45.5625 -1.421875 35.59375 -1.421875 \nQ 29.59375 -1.421875 25.265625 0.953125 \nQ 20.953125 3.328125 18.109375 8.203125 \nL 18.109375 0 \nL 9.078125 0 \nL 9.078125 75.984375 \nL 18.109375 75.984375 \nz\n\" id=\"DejaVuSans-98\"/>\n      <path id=\"DejaVuSans-32\"/>\n      <path d=\"M 30.609375 48.390625 \nQ 23.390625 48.390625 19.1875 42.75 \nQ 14.984375 37.109375 14.984375 27.296875 \nQ 14.984375 17.484375 19.15625 11.84375 \nQ 23.34375 6.203125 30.609375 6.203125 \nQ 37.796875 6.203125 41.984375 11.859375 \nQ 46.1875 17.53125 46.1875 27.296875 \nQ 46.1875 37.015625 41.984375 42.703125 \nQ 37.796875 48.390625 30.609375 48.390625 \nz\nM 30.609375 56 \nQ 42.328125 56 49.015625 48.375 \nQ 55.71875 40.765625 55.71875 27.296875 \nQ 55.71875 13.875 49.015625 6.21875 \nQ 42.328125 -1.421875 30.609375 -1.421875 \nQ 18.84375 -1.421875 12.171875 6.21875 \nQ 5.515625 13.875 5.515625 27.296875 \nQ 5.515625 40.765625 12.171875 48.375 \nQ 18.84375 56 30.609375 56 \nz\n\" id=\"DejaVuSans-111\"/>\n      <path d=\"M 37.109375 75.984375 \nL 37.109375 68.5 \nL 28.515625 68.5 \nQ 23.6875 68.5 21.796875 66.546875 \nQ 19.921875 64.59375 19.921875 59.515625 \nL 19.921875 54.6875 \nL 34.71875 54.6875 \nL 34.71875 47.703125 \nL 19.921875 47.703125 \nL 19.921875 0 \nL 10.890625 0 \nL 10.890625 47.703125 \nL 2.296875 47.703125 \nL 2.296875 54.6875 \nL 10.890625 54.6875 \nL 10.890625 58.5 \nQ 10.890625 67.625 15.140625 71.796875 \nQ 19.390625 75.984375 28.609375 75.984375 \nz\n\" id=\"DejaVuSans-102\"/>\n      <path d=\"M 34.28125 27.484375 \nQ 23.390625 27.484375 19.1875 25 \nQ 14.984375 22.515625 14.984375 16.5 \nQ 14.984375 11.71875 18.140625 8.90625 \nQ 21.296875 6.109375 26.703125 6.109375 \nQ 34.1875 6.109375 38.703125 11.40625 \nQ 43.21875 16.703125 43.21875 25.484375 \nL 43.21875 27.484375 \nz\nM 52.203125 31.203125 \nL 52.203125 0 \nL 43.21875 0 \nL 43.21875 8.296875 \nQ 40.140625 3.328125 35.546875 0.953125 \nQ 30.953125 -1.421875 24.3125 -1.421875 \nQ 15.921875 -1.421875 10.953125 3.296875 \nQ 6 8.015625 6 15.921875 \nQ 6 25.140625 12.171875 29.828125 \nQ 18.359375 34.515625 30.609375 34.515625 \nL 43.21875 34.515625 \nL 43.21875 35.40625 \nQ 43.21875 41.609375 39.140625 45 \nQ 35.0625 48.390625 27.6875 48.390625 \nQ 23 48.390625 18.546875 47.265625 \nQ 14.109375 46.140625 10.015625 43.890625 \nL 10.015625 52.203125 \nQ 14.9375 54.109375 19.578125 55.046875 \nQ 24.21875 56 28.609375 56 \nQ 40.484375 56 46.34375 49.84375 \nQ 52.203125 43.703125 52.203125 31.203125 \nz\n\" id=\"DejaVuSans-97\"/>\n      <path d=\"M 2.984375 54.6875 \nL 12.5 54.6875 \nL 29.59375 8.796875 \nL 46.6875 54.6875 \nL 56.203125 54.6875 \nL 35.6875 0 \nL 23.484375 0 \nz\n\" id=\"DejaVuSans-118\"/>\n      <path d=\"M 45.40625 46.390625 \nL 45.40625 75.984375 \nL 54.390625 75.984375 \nL 54.390625 0 \nL 45.40625 0 \nL 45.40625 8.203125 \nQ 42.578125 3.328125 38.25 0.953125 \nQ 33.9375 -1.421875 27.875 -1.421875 \nQ 17.96875 -1.421875 11.734375 6.484375 \nQ 5.515625 14.40625 5.515625 27.296875 \nQ 5.515625 40.1875 11.734375 48.09375 \nQ 17.96875 56 27.875 56 \nQ 33.9375 56 38.25 53.625 \nQ 42.578125 51.265625 45.40625 46.390625 \nz\nM 14.796875 27.296875 \nQ 14.796875 17.390625 18.875 11.75 \nQ 22.953125 6.109375 30.078125 6.109375 \nQ 37.203125 6.109375 41.296875 11.75 \nQ 45.40625 17.390625 45.40625 27.296875 \nQ 45.40625 37.203125 41.296875 42.84375 \nQ 37.203125 48.484375 30.078125 48.484375 \nQ 22.953125 48.484375 18.875 42.84375 \nQ 14.796875 37.203125 14.796875 27.296875 \nz\n\" id=\"DejaVuSans-100\"/>\n      <path d=\"M 44.28125 53.078125 \nL 44.28125 44.578125 \nQ 40.484375 46.53125 36.375 47.5 \nQ 32.28125 48.484375 27.875 48.484375 \nQ 21.1875 48.484375 17.84375 46.4375 \nQ 14.5 44.390625 14.5 40.28125 \nQ 14.5 37.15625 16.890625 35.375 \nQ 19.28125 33.59375 26.515625 31.984375 \nL 29.59375 31.296875 \nQ 39.15625 29.25 43.1875 25.515625 \nQ 47.21875 21.78125 47.21875 15.09375 \nQ 47.21875 7.46875 41.1875 3.015625 \nQ 35.15625 -1.421875 24.609375 -1.421875 \nQ 20.21875 -1.421875 15.453125 -0.5625 \nQ 10.6875 0.296875 5.421875 2 \nL 5.421875 11.28125 \nQ 10.40625 8.6875 15.234375 7.390625 \nQ 20.0625 6.109375 24.8125 6.109375 \nQ 31.15625 6.109375 34.5625 8.28125 \nQ 37.984375 10.453125 37.984375 14.40625 \nQ 37.984375 18.0625 35.515625 20.015625 \nQ 33.0625 21.96875 24.703125 23.78125 \nL 21.578125 24.515625 \nQ 13.234375 26.265625 9.515625 29.90625 \nQ 5.8125 33.546875 5.8125 39.890625 \nQ 5.8125 47.609375 11.28125 51.796875 \nQ 16.75 56 26.8125 56 \nQ 31.78125 56 36.171875 55.265625 \nQ 40.578125 54.546875 44.28125 53.078125 \nz\n\" id=\"DejaVuSans-115\"/>\n     </defs>\n     <g transform=\"translate(14.798438 182.856094)rotate(-90)scale(0.1 -0.1)\">\n      <use xlink:href=\"#DejaVuSans-78\"/>\n      <use x=\"74.804688\" xlink:href=\"#DejaVuSans-117\"/>\n      <use x=\"138.183594\" xlink:href=\"#DejaVuSans-109\"/>\n      <use x=\"235.595703\" xlink:href=\"#DejaVuSans-98\"/>\n      <use x=\"299.072266\" xlink:href=\"#DejaVuSans-101\"/>\n      <use x=\"360.595703\" xlink:href=\"#DejaVuSans-114\"/>\n      <use x=\"401.708984\" xlink:href=\"#DejaVuSans-32\"/>\n      <use x=\"433.496094\" xlink:href=\"#DejaVuSans-111\"/>\n      <use x=\"494.677734\" xlink:href=\"#DejaVuSans-102\"/>\n      <use x=\"529.882812\" xlink:href=\"#DejaVuSans-32\"/>\n      <use x=\"561.669922\" xlink:href=\"#DejaVuSans-97\"/>\n      <use x=\"622.949219\" xlink:href=\"#DejaVuSans-118\"/>\n      <use x=\"682.128906\" xlink:href=\"#DejaVuSans-111\"/>\n      <use x=\"743.310547\" xlink:href=\"#DejaVuSans-99\"/>\n      <use x=\"798.291016\" xlink:href=\"#DejaVuSans-97\"/>\n      <use x=\"859.570312\" xlink:href=\"#DejaVuSans-100\"/>\n      <use x=\"923.046875\" xlink:href=\"#DejaVuSans-111\"/>\n      <use x=\"984.228516\" xlink:href=\"#DejaVuSans-115\"/>\n     </g>\n    </g>\n   </g>\n   <g id=\"patch_13\">\n    <path d=\"M 53.328125 239.758125 \nL 53.328125 22.318125 \n\" style=\"fill:none;stroke:#000000;stroke-linecap:square;stroke-linejoin:miter;stroke-width:0.8;\"/>\n   </g>\n   <g id=\"patch_14\">\n    <path d=\"M 388.128125 239.758125 \nL 388.128125 22.318125 \n\" style=\"fill:none;stroke:#000000;stroke-linecap:square;stroke-linejoin:miter;stroke-width:0.8;\"/>\n   </g>\n   <g id=\"patch_15\">\n    <path d=\"M 53.328125 239.758125 \nL 388.128125 239.758125 \n\" style=\"fill:none;stroke:#000000;stroke-linecap:square;stroke-linejoin:miter;stroke-width:0.8;\"/>\n   </g>\n   <g id=\"patch_16\">\n    <path d=\"M 53.328125 22.318125 \nL 388.128125 22.318125 \n\" style=\"fill:none;stroke:#000000;stroke-linecap:square;stroke-linejoin:miter;stroke-width:0.8;\"/>\n   </g>\n   <g id=\"text_14\">\n    <!-- Avocado price distribution -->\n    <defs>\n     <path d=\"M 34.1875 63.1875 \nL 20.796875 26.90625 \nL 47.609375 26.90625 \nz\nM 28.609375 72.90625 \nL 39.796875 72.90625 \nL 67.578125 0 \nL 57.328125 0 \nL 50.6875 18.703125 \nL 17.828125 18.703125 \nL 11.1875 0 \nL 0.78125 0 \nz\n\" id=\"DejaVuSans-65\"/>\n     <path d=\"M 18.109375 8.203125 \nL 18.109375 -20.796875 \nL 9.078125 -20.796875 \nL 9.078125 54.6875 \nL 18.109375 54.6875 \nL 18.109375 46.390625 \nQ 20.953125 51.265625 25.265625 53.625 \nQ 29.59375 56 35.59375 56 \nQ 45.5625 56 51.78125 48.09375 \nQ 58.015625 40.1875 58.015625 27.296875 \nQ 58.015625 14.40625 51.78125 6.484375 \nQ 45.5625 -1.421875 35.59375 -1.421875 \nQ 29.59375 -1.421875 25.265625 0.953125 \nQ 20.953125 3.328125 18.109375 8.203125 \nz\nM 48.6875 27.296875 \nQ 48.6875 37.203125 44.609375 42.84375 \nQ 40.53125 48.484375 33.40625 48.484375 \nQ 26.265625 48.484375 22.1875 42.84375 \nQ 18.109375 37.203125 18.109375 27.296875 \nQ 18.109375 17.390625 22.1875 11.75 \nQ 26.265625 6.109375 33.40625 6.109375 \nQ 40.53125 6.109375 44.609375 11.75 \nQ 48.6875 17.390625 48.6875 27.296875 \nz\n\" id=\"DejaVuSans-112\"/>\n     <path d=\"M 18.3125 70.21875 \nL 18.3125 54.6875 \nL 36.8125 54.6875 \nL 36.8125 47.703125 \nL 18.3125 47.703125 \nL 18.3125 18.015625 \nQ 18.3125 11.328125 20.140625 9.421875 \nQ 21.96875 7.515625 27.59375 7.515625 \nL 36.8125 7.515625 \nL 36.8125 0 \nL 27.59375 0 \nQ 17.1875 0 13.234375 3.875 \nQ 9.28125 7.765625 9.28125 18.015625 \nL 9.28125 47.703125 \nL 2.6875 47.703125 \nL 2.6875 54.6875 \nL 9.28125 54.6875 \nL 9.28125 70.21875 \nz\n\" id=\"DejaVuSans-116\"/>\n     <path d=\"M 54.890625 33.015625 \nL 54.890625 0 \nL 45.90625 0 \nL 45.90625 32.71875 \nQ 45.90625 40.484375 42.875 44.328125 \nQ 39.84375 48.1875 33.796875 48.1875 \nQ 26.515625 48.1875 22.3125 43.546875 \nQ 18.109375 38.921875 18.109375 30.90625 \nL 18.109375 0 \nL 9.078125 0 \nL 9.078125 54.6875 \nL 18.109375 54.6875 \nL 18.109375 46.1875 \nQ 21.34375 51.125 25.703125 53.5625 \nQ 30.078125 56 35.796875 56 \nQ 45.21875 56 50.046875 50.171875 \nQ 54.890625 44.34375 54.890625 33.015625 \nz\n\" id=\"DejaVuSans-110\"/>\n    </defs>\n    <g transform=\"translate(142.010938 16.318125)scale(0.12 -0.12)\">\n     <use xlink:href=\"#DejaVuSans-65\"/>\n     <use x=\"68.330078\" xlink:href=\"#DejaVuSans-118\"/>\n     <use x=\"127.509766\" xlink:href=\"#DejaVuSans-111\"/>\n     <use x=\"188.691406\" xlink:href=\"#DejaVuSans-99\"/>\n     <use x=\"243.671875\" xlink:href=\"#DejaVuSans-97\"/>\n     <use x=\"304.951172\" xlink:href=\"#DejaVuSans-100\"/>\n     <use x=\"368.427734\" xlink:href=\"#DejaVuSans-111\"/>\n     <use x=\"429.609375\" xlink:href=\"#DejaVuSans-32\"/>\n     <use x=\"461.396484\" xlink:href=\"#DejaVuSans-112\"/>\n     <use x=\"524.873047\" xlink:href=\"#DejaVuSans-114\"/>\n     <use x=\"565.986328\" xlink:href=\"#DejaVuSans-105\"/>\n     <use x=\"593.769531\" xlink:href=\"#DejaVuSans-99\"/>\n     <use x=\"648.75\" xlink:href=\"#DejaVuSans-101\"/>\n     <use x=\"710.273438\" xlink:href=\"#DejaVuSans-32\"/>\n     <use x=\"742.060547\" xlink:href=\"#DejaVuSans-100\"/>\n     <use x=\"805.537109\" xlink:href=\"#DejaVuSans-105\"/>\n     <use x=\"833.320312\" xlink:href=\"#DejaVuSans-115\"/>\n     <use x=\"885.419922\" xlink:href=\"#DejaVuSans-116\"/>\n     <use x=\"924.628906\" xlink:href=\"#DejaVuSans-114\"/>\n     <use x=\"965.742188\" xlink:href=\"#DejaVuSans-105\"/>\n     <use x=\"993.525391\" xlink:href=\"#DejaVuSans-98\"/>\n     <use x=\"1057.001953\" xlink:href=\"#DejaVuSans-117\"/>\n     <use x=\"1120.380859\" xlink:href=\"#DejaVuSans-116\"/>\n     <use x=\"1159.589844\" xlink:href=\"#DejaVuSans-105\"/>\n     <use x=\"1187.373047\" xlink:href=\"#DejaVuSans-111\"/>\n     <use x=\"1248.554688\" xlink:href=\"#DejaVuSans-110\"/>\n    </g>\n   </g>\n  </g>\n </g>\n <defs>\n  <clipPath id=\"pdafbe86eb7\">\n   <rect height=\"217.44\" width=\"334.8\" x=\"53.328125\" y=\"22.318125\"/>\n  </clipPath>\n </defs>\n</svg>\n",
      "image/png": "[encoded data removed]"
     },
     "metadata": {
      "needs_background": "light"
     }
    }
   ],
   "source": [
    "# Analysing price distribution\n",
    "_ = plt.hist(av_df.avg_price, color = 'lightblue')\n",
    "\n",
    "plt.xlabel('Price')\n",
    "plt.ylabel('Number of avocados')\n",
    "plt.title('Avocado price distribution')\n",
    "plt.show()"
   ]
  },
  {
   "cell_type": "code",
   "execution_count": 1079,
   "metadata": {},
   "outputs": [
    {
     "output_type": "execute_result",
     "data": {
      "text/plain": "        date  avg_price  total_volume  small_av  large_av  xlarge_av  \\\n0 2015-12-27       1.33         64237      1037     54455         48   \n1 2015-12-20       1.35         54877       674     44639         58   \n2 2015-12-13       0.93        118220       795    109150        130   \n3 2015-12-06       1.08         78992      1132     71976         73   \n4 2015-11-29       1.28         51040       942     43838         76   \n\n   total_bags  small_bags  large_bags  xlarge_bags          type  year  \\\n0        8697        8604          93            0  conventional  2015   \n1        9506        9409          97            0  conventional  2015   \n2        8145        8042         103            0  conventional  2015   \n3        5811        5677         134            0  conventional  2015   \n4        6184        5986         198            0  conventional  2015   \n\n   region price_category  \n0  Albany         Medium  \n1  Albany         Medium  \n2  Albany            Low  \n3  Albany         Medium  \n4  Albany         Medium  ",
      "text/html": "<div>\n<style scoped>\n    .dataframe tbody tr th:only-of-type {\n        vertical-align: middle;\n    }\n\n    .dataframe tbody tr th {\n        vertical-align: top;\n    }\n\n    .dataframe thead th {\n        text-align: right;\n    }\n</style>\n<table border=\"1\" class=\"dataframe\">\n  <thead>\n    <tr style=\"text-align: right;\">\n      <th></th>\n      <th>date</th>\n      <th>avg_price</th>\n      <th>total_volume</th>\n      <th>small_av</th>\n      <th>large_av</th>\n      <th>xlarge_av</th>\n      <th>total_bags</th>\n      <th>small_bags</th>\n      <th>large_bags</th>\n      <th>xlarge_bags</th>\n      <th>type</th>\n      <th>year</th>\n      <th>region</th>\n      <th>price_category</th>\n    </tr>\n  </thead>\n  <tbody>\n    <tr>\n      <th>0</th>\n      <td>2015-12-27</td>\n      <td>1.33</td>\n      <td>64237</td>\n      <td>1037</td>\n      <td>54455</td>\n      <td>48</td>\n      <td>8697</td>\n      <td>8604</td>\n      <td>93</td>\n      <td>0</td>\n      <td>conventional</td>\n      <td>2015</td>\n      <td>Albany</td>\n      <td>Medium</td>\n    </tr>\n    <tr>\n      <th>1</th>\n      <td>2015-12-20</td>\n      <td>1.35</td>\n      <td>54877</td>\n      <td>674</td>\n      <td>44639</td>\n      <td>58</td>\n      <td>9506</td>\n      <td>9409</td>\n      <td>97</td>\n      <td>0</td>\n      <td>conventional</td>\n      <td>2015</td>\n      <td>Albany</td>\n      <td>Medium</td>\n    </tr>\n    <tr>\n      <th>2</th>\n      <td>2015-12-13</td>\n      <td>0.93</td>\n      <td>118220</td>\n      <td>795</td>\n      <td>109150</td>\n      <td>130</td>\n      <td>8145</td>\n      <td>8042</td>\n      <td>103</td>\n      <td>0</td>\n      <td>conventional</td>\n      <td>2015</td>\n      <td>Albany</td>\n      <td>Low</td>\n    </tr>\n    <tr>\n      <th>3</th>\n      <td>2015-12-06</td>\n      <td>1.08</td>\n      <td>78992</td>\n      <td>1132</td>\n      <td>71976</td>\n      <td>73</td>\n      <td>5811</td>\n      <td>5677</td>\n      <td>134</td>\n      <td>0</td>\n      <td>conventional</td>\n      <td>2015</td>\n      <td>Albany</td>\n      <td>Medium</td>\n    </tr>\n    <tr>\n      <th>4</th>\n      <td>2015-11-29</td>\n      <td>1.28</td>\n      <td>51040</td>\n      <td>942</td>\n      <td>43838</td>\n      <td>76</td>\n      <td>6184</td>\n      <td>5986</td>\n      <td>198</td>\n      <td>0</td>\n      <td>conventional</td>\n      <td>2015</td>\n      <td>Albany</td>\n      <td>Medium</td>\n    </tr>\n  </tbody>\n</table>\n</div>"
     },
     "metadata": {},
     "execution_count": 1079
    }
   ],
   "source": [
    "# Let's group regions by average price categories\n",
    "# According to the histogram, we can devide our data by 3 categories\n",
    "\n",
    "category_ranges = [0, 1, 2, np.inf]\n",
    "category_names = ['Low', 'Medium', 'High']\n",
    "\n",
    "av_df['price_category'] = pd.cut(av_df.avg_price, bins = category_ranges, labels = category_names)\n",
    "av_df.head()"
   ]
  },
  {
   "cell_type": "code",
   "execution_count": 1086,
   "metadata": {},
   "outputs": [
    {
     "output_type": "execute_result",
     "data": {
      "text/plain": "            date  year             region     type  avg_price price_category  \\\n13037 2016-10-02  2016           LasVegas  organic       3.03           High   \n14124 2016-11-06  2016       SanFrancisco  organic       3.12           High   \n14125 2016-10-30  2016       SanFrancisco  organic       3.25           High   \n16055 2017-03-12  2017  MiamiFtLauderdale  organic       3.05           High   \n16720 2017-08-27  2017  RaleighGreensboro  organic       3.04           High   \n17428 2017-04-16  2017              Tampa  organic       3.17           High   \n\n       total_volume  small_av  large_av  xlarge_av  total_bags  small_bags  \\\n13037          3715       297      2700          0         718         718   \n14124         19044      5899     10039          0        3106        3079   \n14125         16701      2326     11143          0        3232        3232   \n16055          2068      1044        77          0         947         927   \n16720         12656       419      4852        145        7240        6961   \n17428          3019      1256        82          0        1681        1543   \n\n       large_bags  xlarge_bags  \n13037           0            0  \n14124          27            0  \n14125           0            0  \n16055          20            0  \n16720         279            0  \n17428         138            0  ",
      "text/html": "<div>\n<style scoped>\n    .dataframe tbody tr th:only-of-type {\n        vertical-align: middle;\n    }\n\n    .dataframe tbody tr th {\n        vertical-align: top;\n    }\n\n    .dataframe thead th {\n        text-align: right;\n    }\n</style>\n<table border=\"1\" class=\"dataframe\">\n  <thead>\n    <tr style=\"text-align: right;\">\n      <th></th>\n      <th>date</th>\n      <th>year</th>\n      <th>region</th>\n      <th>type</th>\n      <th>avg_price</th>\n      <th>price_category</th>\n      <th>total_volume</th>\n      <th>small_av</th>\n      <th>large_av</th>\n      <th>xlarge_av</th>\n      <th>total_bags</th>\n      <th>small_bags</th>\n      <th>large_bags</th>\n      <th>xlarge_bags</th>\n    </tr>\n  </thead>\n  <tbody>\n    <tr>\n      <th>13037</th>\n      <td>2016-10-02</td>\n      <td>2016</td>\n      <td>LasVegas</td>\n      <td>organic</td>\n      <td>3.03</td>\n      <td>High</td>\n      <td>3715</td>\n      <td>297</td>\n      <td>2700</td>\n      <td>0</td>\n      <td>718</td>\n      <td>718</td>\n      <td>0</td>\n      <td>0</td>\n    </tr>\n    <tr>\n      <th>14124</th>\n      <td>2016-11-06</td>\n      <td>2016</td>\n      <td>SanFrancisco</td>\n      <td>organic</td>\n      <td>3.12</td>\n      <td>High</td>\n      <td>19044</td>\n      <td>5899</td>\n      <td>10039</td>\n      <td>0</td>\n      <td>3106</td>\n      <td>3079</td>\n      <td>27</td>\n      <td>0</td>\n    </tr>\n    <tr>\n      <th>14125</th>\n      <td>2016-10-30</td>\n      <td>2016</td>\n      <td>SanFrancisco</td>\n      <td>organic</td>\n      <td>3.25</td>\n      <td>High</td>\n      <td>16701</td>\n      <td>2326</td>\n      <td>11143</td>\n      <td>0</td>\n      <td>3232</td>\n      <td>3232</td>\n      <td>0</td>\n      <td>0</td>\n    </tr>\n    <tr>\n      <th>16055</th>\n      <td>2017-03-12</td>\n      <td>2017</td>\n      <td>MiamiFtLauderdale</td>\n      <td>organic</td>\n      <td>3.05</td>\n      <td>High</td>\n      <td>2068</td>\n      <td>1044</td>\n      <td>77</td>\n      <td>0</td>\n      <td>947</td>\n      <td>927</td>\n      <td>20</td>\n      <td>0</td>\n    </tr>\n    <tr>\n      <th>16720</th>\n      <td>2017-08-27</td>\n      <td>2017</td>\n      <td>RaleighGreensboro</td>\n      <td>organic</td>\n      <td>3.04</td>\n      <td>High</td>\n      <td>12656</td>\n      <td>419</td>\n      <td>4852</td>\n      <td>145</td>\n      <td>7240</td>\n      <td>6961</td>\n      <td>279</td>\n      <td>0</td>\n    </tr>\n    <tr>\n      <th>17428</th>\n      <td>2017-04-16</td>\n      <td>2017</td>\n      <td>Tampa</td>\n      <td>organic</td>\n      <td>3.17</td>\n      <td>High</td>\n      <td>3019</td>\n      <td>1256</td>\n      <td>82</td>\n      <td>0</td>\n      <td>1681</td>\n      <td>1543</td>\n      <td>138</td>\n      <td>0</td>\n    </tr>\n  </tbody>\n</table>\n</div>"
     },
     "metadata": {},
     "execution_count": 1086
    }
   ],
   "source": [
    "av_df[av_df['avg_price'] > 3]"
   ]
  },
  {
   "cell_type": "code",
   "execution_count": 1080,
   "metadata": {},
   "outputs": [
    {
     "output_type": "execute_result",
     "data": {
      "text/plain": "Index(['date', 'avg_price', 'total_volume', 'small_av', 'large_av',\n       'xlarge_av', 'total_bags', 'small_bags', 'large_bags', 'xlarge_bags',\n       'type', 'year', 'region', 'price_category'],\n      dtype='object')"
     },
     "metadata": {},
     "execution_count": 1080
    }
   ],
   "source": [
    "# Ordering columns\n",
    "# At first we could get list of columns names\n",
    "av_df.columns"
   ]
  },
  {
   "cell_type": "code",
   "execution_count": 1081,
   "metadata": {},
   "outputs": [
    {
     "output_type": "execute_result",
     "data": {
      "text/plain": "        date  year  region          type  avg_price price_category  \\\n0 2015-12-27  2015  Albany  conventional       1.33         Medium   \n1 2015-12-20  2015  Albany  conventional       1.35         Medium   \n\n   total_volume  small_av  large_av  xlarge_av  total_bags  small_bags  \\\n0         64237      1037     54455         48        8697        8604   \n1         54877       674     44639         58        9506        9409   \n\n   large_bags  xlarge_bags  \n0          93            0  \n1          97            0  ",
      "text/html": "<div>\n<style scoped>\n    .dataframe tbody tr th:only-of-type {\n        vertical-align: middle;\n    }\n\n    .dataframe tbody tr th {\n        vertical-align: top;\n    }\n\n    .dataframe thead th {\n        text-align: right;\n    }\n</style>\n<table border=\"1\" class=\"dataframe\">\n  <thead>\n    <tr style=\"text-align: right;\">\n      <th></th>\n      <th>date</th>\n      <th>year</th>\n      <th>region</th>\n      <th>type</th>\n      <th>avg_price</th>\n      <th>price_category</th>\n      <th>total_volume</th>\n      <th>small_av</th>\n      <th>large_av</th>\n      <th>xlarge_av</th>\n      <th>total_bags</th>\n      <th>small_bags</th>\n      <th>large_bags</th>\n      <th>xlarge_bags</th>\n    </tr>\n  </thead>\n  <tbody>\n    <tr>\n      <th>0</th>\n      <td>2015-12-27</td>\n      <td>2015</td>\n      <td>Albany</td>\n      <td>conventional</td>\n      <td>1.33</td>\n      <td>Medium</td>\n      <td>64237</td>\n      <td>1037</td>\n      <td>54455</td>\n      <td>48</td>\n      <td>8697</td>\n      <td>8604</td>\n      <td>93</td>\n      <td>0</td>\n    </tr>\n    <tr>\n      <th>1</th>\n      <td>2015-12-20</td>\n      <td>2015</td>\n      <td>Albany</td>\n      <td>conventional</td>\n      <td>1.35</td>\n      <td>Medium</td>\n      <td>54877</td>\n      <td>674</td>\n      <td>44639</td>\n      <td>58</td>\n      <td>9506</td>\n      <td>9409</td>\n      <td>97</td>\n      <td>0</td>\n    </tr>\n  </tbody>\n</table>\n</div>"
     },
     "metadata": {},
     "execution_count": 1081
    }
   ],
   "source": [
    "# Ordering columns\n",
    "# At first we could get list of columns names\n",
    "av_df.columns\n",
    "\n",
    "col_list = ['date', 'year', 'region', 'type', 'avg_price', 'price_category', 'total_volume', 'small_av', 'large_av', 'xlarge_av', 'total_bags', 'small_bags', 'large_bags', 'xlarge_bags']\n",
    "av_df = av_df.reindex(columns=col_list)\n",
    "av_df.head(2)"
   ]
  },
  {
   "cell_type": "code",
   "execution_count": 1087,
   "metadata": {},
   "outputs": [],
   "source": [
    "av_df.to_csv('avocado_cleaned.csv')"
   ]
  },
  {
   "cell_type": "code",
   "execution_count": null,
   "metadata": {},
   "outputs": [],
   "source": []
  }
 ],
 "metadata": {
  "language_info": {
   "codemirror_mode": {
    "name": "ipython",
    "version": 3
   },
   "file_extension": ".py",
   "mimetype": "text/x-python",
   "name": "python",
   "nbconvert_exporter": "python",
   "pygments_lexer": "ipython3",
   "version": "3.7.3-final"
  },
  "orig_nbformat": 2,
  "kernelspec": {
   "name": "python3",
   "display_name": "Python 3"
  }
 },
 "nbformat": 4,
 "nbformat_minor": 2
}